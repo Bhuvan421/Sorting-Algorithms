{
 "cells": [
  {
   "cell_type": "code",
   "execution_count": 12,
   "id": "c7171f7f",
   "metadata": {},
   "outputs": [],
   "source": [
    "#### Declare all imports\n",
    "\n",
    "from typing import List\n",
    "import heapq\n",
    "import random\n"
   ]
  },
  {
   "cell_type": "markdown",
   "id": "df7e9737",
   "metadata": {},
   "source": [
    "### 1. Bubble Sort:\n",
    "#### time: O(n^2)\n",
    "#### space: O(1)"
   ]
  },
  {
   "cell_type": "code",
   "execution_count": 13,
   "id": "23d7c0f3",
   "metadata": {},
   "outputs": [
    {
     "name": "stdout",
     "output_type": "stream",
     "text": [
      "Unsorted list: [5, 2, 8, 1, 3]\n",
      "Sorted list: [1, 2, 3, 5, 8]\n"
     ]
    }
   ],
   "source": [
    "class Solution:\n",
    "    def sortArray(self, nums: List[int]) -> List[int]:\n",
    "        i = 0\n",
    "        while i < len(nums)-1:\n",
    "            j = i + 1\n",
    "            while j < len(nums):\n",
    "                if nums[i] > nums[j]:\n",
    "                    nums[i], nums[j] = nums[j], nums[i]\n",
    "                    # print(nums)\n",
    "                j += 1\n",
    "            i += 1\n",
    "        return nums\n",
    "    \n",
    "\n",
    "unsorted_list = [5, 2, 8, 1, 3]\n",
    "print(\"Unsorted list:\", unsorted_list)\n",
    "obj = Solution()\n",
    "sorted_list = obj.sortArray(unsorted_list)\n",
    "print(\"Sorted list:\", sorted_list)\n"
   ]
  },
  {
   "cell_type": "markdown",
   "id": "ad89901e",
   "metadata": {},
   "source": [
    "### 2. Selection Sort:\n",
    "#### time: O(n^2)\n",
    "#### space: O(1)"
   ]
  },
  {
   "cell_type": "code",
   "execution_count": 14,
   "id": "bb459f95",
   "metadata": {},
   "outputs": [
    {
     "name": "stdout",
     "output_type": "stream",
     "text": [
      "Unsorted list: [5, 2, 8, 1, 3]\n",
      "Sorted list: [1, 2, 3, 5, 8]\n"
     ]
    }
   ],
   "source": [
    "class Solution:\n",
    "    def sortArray(self, nums: List[int]) -> List[int]:\n",
    "        i = 0\n",
    "        while i < len(nums)-1:\n",
    "            minInd = i\n",
    "            for j in range(i+1, len(nums)):\n",
    "                if nums[j] < nums[minInd]:\n",
    "                    minInd = j\n",
    "            if nums[minInd] < nums[i]:\n",
    "                nums[i], nums[minInd] = nums[minInd], nums[i]\n",
    "            i += 1\n",
    "        return nums\n",
    "    \n",
    "    \n",
    "unsorted_list = [5, 2, 8, 1, 3]\n",
    "print(\"Unsorted list:\", unsorted_list)\n",
    "obj = Solution()\n",
    "sorted_list = obj.sortArray(unsorted_list)\n",
    "print(\"Sorted list:\", sorted_list)"
   ]
  },
  {
   "cell_type": "markdown",
   "id": "52b8b57d",
   "metadata": {},
   "source": [
    "### 3. Insertion Sort:\n",
    "#### time: O(n^2)\n",
    "#### space: O(1)"
   ]
  },
  {
   "cell_type": "code",
   "execution_count": 26,
   "id": "f6925dd1",
   "metadata": {},
   "outputs": [
    {
     "name": "stdout",
     "output_type": "stream",
     "text": [
      "Unsorted list: [5, 2, 8, 1, 3]\n",
      "Sorted list: [1, 2, 3, 5, 8]\n"
     ]
    }
   ],
   "source": [
    "class Solution:\n",
    "    def sortArray(self, nums: List[int]) -> List[int]:\n",
    "        for i in range(1, len(nums)):\n",
    "            j = i - 1\n",
    "            curr = nums[i]\n",
    "            while j >= 0 and nums[j] > curr:\n",
    "                # print(\"found a smaller number to the right of a larger number: \", curr, \" < \", nums[j])\n",
    "                nums[j + 1] = nums[j]\n",
    "                j -= 1\n",
    "                # print(\"nums: \", nums)\n",
    "            nums[j + 1] = curr\n",
    "            # print(\"nums after one complete swap: \", nums)\n",
    "        return nums \n",
    "\n",
    "\n",
    "unsorted_list = [5, 2, 8, 1, 3]\n",
    "print(\"Unsorted list:\", unsorted_list)\n",
    "obj = Solution()\n",
    "sorted_list = obj.sortArray(unsorted_list)\n",
    "print(\"Sorted list:\", sorted_list)"
   ]
  },
  {
   "cell_type": "markdown",
   "id": "a6839096",
   "metadata": {},
   "source": [
    "### 4. Heap Sort:\n",
    "#### time: O(nlogn)\n",
    "#### space: O(n)"
   ]
  },
  {
   "cell_type": "code",
   "execution_count": 16,
   "id": "b8dbb53a",
   "metadata": {},
   "outputs": [
    {
     "name": "stdout",
     "output_type": "stream",
     "text": [
      "Unsorted list: [5, 2, 8, 1, 3]\n",
      "Sorted list: [1, 2, 3, 5, 8]\n"
     ]
    }
   ],
   "source": [
    "class Solution:\n",
    "    def sortArray(self, nums: List[int]) -> List[int]:\n",
    "        q = []\n",
    "        res = []\n",
    "        for i in nums:\n",
    "            heapq.heappush(q, i)\n",
    "        while q:\n",
    "            res.append(heapq.heappop(q))\n",
    "        return res\n",
    "\n",
    "\n",
    "unsorted_list = [5, 2, 8, 1, 3]\n",
    "print(\"Unsorted list:\", unsorted_list)\n",
    "obj = Solution()\n",
    "sorted_list = obj.sortArray(unsorted_list)\n",
    "print(\"Sorted list:\", sorted_list)"
   ]
  },
  {
   "cell_type": "markdown",
   "id": "765b6799",
   "metadata": {},
   "source": [
    "### 5. Merge Sort:\n",
    "#### time: O(nlogn)\n",
    "#### space: O(n)"
   ]
  },
  {
   "cell_type": "code",
   "execution_count": 30,
   "id": "64353ded",
   "metadata": {},
   "outputs": [
    {
     "name": "stdout",
     "output_type": "stream",
     "text": [
      "Unsorted list: [5, 2, 8, 1, 3]\n",
      "Sorted list: [1, 2, 3, 5, 8]\n"
     ]
    }
   ],
   "source": [
    "class Solution:\n",
    "    def sortArray(self, nums: List[int]) -> List[int]:\n",
    "        if len(nums) <= 1:\n",
    "            return nums\n",
    "        \n",
    "        mid = len(nums) // 2\n",
    "        leftArray = nums[:mid]\n",
    "        rightArray = nums[mid:]\n",
    "\n",
    "        self.sortArray(leftArray)\n",
    "        self.sortArray(rightArray)\n",
    "\n",
    "        leftArrayIndex, rightArrayIndex, mergedArrayIndex = 0, 0, 0\n",
    "\n",
    "        while leftArrayIndex < len(leftArray) and rightArrayIndex < len(rightArray):\n",
    "            if leftArray[leftArrayIndex] <= rightArray[rightArrayIndex]:\n",
    "                nums[mergedArrayIndex] = leftArray[leftArrayIndex]\n",
    "                leftArrayIndex += 1\n",
    "            else:\n",
    "                nums[mergedArrayIndex] = rightArray[rightArrayIndex]\n",
    "                rightArrayIndex += 1\n",
    "            mergedArrayIndex += 1\n",
    "\n",
    "        if leftArrayIndex < len(leftArray):\n",
    "            nums[mergedArrayIndex:] = leftArray[leftArrayIndex:]\n",
    "        if rightArrayIndex < len(rightArray):\n",
    "            nums[mergedArrayIndex:] = rightArray[rightArrayIndex:]\n",
    "            \n",
    "        # print(\"\\nl: \", leftArray)\n",
    "        # print(\"r: \", rightArray)\n",
    "        # print(\"merged: \", nums)\n",
    "\n",
    "        return nums\n",
    "\n",
    "\n",
    "unsorted_list = [5, 2, 8, 1, 3]\n",
    "print(\"Unsorted list:\", unsorted_list)\n",
    "obj = Solution()\n",
    "sorted_list = obj.sortArray(unsorted_list)\n",
    "print(\"Sorted list:\", sorted_list)"
   ]
  },
  {
   "cell_type": "markdown",
   "id": "f460cd9c",
   "metadata": {},
   "source": [
    "### 6. Quick Sort:\n",
    "#### time: O(nlogn)\n",
    "#### space: O(n)"
   ]
  },
  {
   "cell_type": "code",
   "execution_count": 36,
   "id": "65d34097",
   "metadata": {},
   "outputs": [
    {
     "name": "stdout",
     "output_type": "stream",
     "text": [
      "Unsorted list: [5, 2, 8, 1, 3]\n",
      "Sorted list: [1, 2, 3, 5, 8]\n"
     ]
    }
   ],
   "source": [
    "class Solution:\n",
    "    def sortArray(self, nums: List[int]) -> List[int]:\n",
    "        def quickSort(nums):\n",
    "            if len(nums) <= 1:\n",
    "                return nums\n",
    "            \n",
    "            smaller, equal, larger = [], [], []\n",
    "            pivot = random.choice(nums)\n",
    "            \n",
    "            # print(\"\\nnums: \", nums)\n",
    "            # print(\"pivot: \", pivot)\n",
    "            \n",
    "            for n in nums:\n",
    "                if n < pivot:\n",
    "                    smaller.append(n)\n",
    "                elif n > pivot:\n",
    "                    larger.append(n)\n",
    "                else:\n",
    "                    equal.append(n)\n",
    "                    \n",
    "            # print(\"smaller: \", smaller)\n",
    "            # print(\"equal: \", equal)\n",
    "            # print(\"larger: \", larger)\n",
    "            \n",
    "            return quickSort(smaller) + equal + quickSort(larger)\n",
    "        \n",
    "        return quickSort(nums)\n",
    "\n",
    "\n",
    "unsorted_list = [5, 2, 8, 1, 3]\n",
    "print(\"Unsorted list:\", unsorted_list)\n",
    "obj = Solution()\n",
    "sorted_list = obj.sortArray(unsorted_list)\n",
    "print(\"Sorted list:\", sorted_list)"
   ]
  }
 ],
 "metadata": {
  "kernelspec": {
   "display_name": "Python 3 (ipykernel)",
   "language": "python",
   "name": "python3"
  },
  "language_info": {
   "codemirror_mode": {
    "name": "ipython",
    "version": 3
   },
   "file_extension": ".py",
   "mimetype": "text/x-python",
   "name": "python",
   "nbconvert_exporter": "python",
   "pygments_lexer": "ipython3",
   "version": "3.11.5"
  }
 },
 "nbformat": 4,
 "nbformat_minor": 5
}
